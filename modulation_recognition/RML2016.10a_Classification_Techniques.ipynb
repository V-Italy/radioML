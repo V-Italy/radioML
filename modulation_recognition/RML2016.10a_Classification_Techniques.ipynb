{
 "cells": [
  {
   "cell_type": "code",
   "execution_count": 3,
   "metadata": {
    "collapsed": true
   },
   "outputs": [],
   "source": [
    "import pickle\n",
    "import matplotlib.pyplot as plt\n",
    "import numpy as np\n",
    "%matplotlib inline"
   ]
  },
  {
   "cell_type": "code",
   "execution_count": 4,
   "metadata": {
    "collapsed": true
   },
   "outputs": [],
   "source": [
    "# Load the dataset ...\n",
    "#  You will need to seperately download or generate this file\n",
    "f = open(\"RML2016.10a_dict.dat\",'rb')\n",
    "Xd = pickle.load(f, encoding='latin-1')\n",
    "snrs,mods = map(lambda j: sorted(list(set(map(lambda x: x[j], Xd.keys())))), [1,0])\n",
    "X = []  \n",
    "lbl = []\n",
    "for mod in mods:\n",
    "    for snr in snrs:\n",
    "        X.append(Xd[(mod,snr)])\n",
    "        for i in range(Xd[(mod,snr)].shape[0]):  lbl.append((mod,snr))\n",
    "X = np.vstack(X)"
   ]
  },
  {
   "cell_type": "code",
   "execution_count": 5,
   "metadata": {},
   "outputs": [
    {
     "name": "stdout",
     "output_type": "stream",
     "text": [
      "(154000, 2, 128) [2, 128]\n"
     ]
    }
   ],
   "source": [
    "# Partition the data\n",
    "#  into training and test sets of the form we can train/test on \n",
    "#  while keeping SNR and Mod labels handy for each\n",
    "factor = 0.7 # % of training data\n",
    "np.random.seed(2018)\n",
    "n_examples = X.shape[0]\n",
    "n_train = int(n_examples * factor)\n",
    "train_idx = np.random.choice(range(0,n_examples), size=n_train, replace=False)\n",
    "test_idx = list(set(range(0,n_examples))-set(train_idx))\n",
    "X_train = X[train_idx]\n",
    "X_test =  X[test_idx]\n",
    "def to_onehot(yy):\n",
    "    yy = list(yy)\n",
    "    yy1 = np.zeros([len(yy), max(yy)+1])\n",
    "    yy1[np.arange(len(yy)),yy] = 1\n",
    "    return yy1\n",
    "Y_train = to_onehot(map(lambda x: mods.index(lbl[x][0]), train_idx))\n",
    "Y_test = to_onehot(map(lambda x: mods.index(lbl[x][0]), test_idx))\n",
    "in_shp = list(X_train.shape[1:])\n",
    "print(X_train.shape, in_shp)\n",
    "classes = mods"
   ]
  },
  {
   "cell_type": "code",
   "execution_count": 25,
   "metadata": {
    "collapsed": true
   },
   "outputs": [],
   "source": [
    "nfft = 16\n",
    "cyclo_averaging = 8\n",
    "offsets = [1,2,3,4,5,6,7,8]\n",
    "\n",
    "def compute_cyclo_fft(data, nfft):\n",
    "    data_reshape = np.reshape(data, (nfft, -1))\n",
    "    return np.fft.fftshift(np.fft.fft(data_reshape, axis=0), axes=0)\n",
    "\n",
    "def compute_cyclo_ifft(data, nfft):\n",
    "    return np.fft.fftshift(np.fft.fft(data))\n",
    "\n",
    "def single_fft_cyclo(fft, offset):\n",
    "    left = np.roll(fft, -offset)\n",
    "    right = np.roll(fft, offset)\n",
    "    spec = right * np.conj(left)\n",
    "    return spec\n",
    "\n",
    "def create_sc(spec, offset):\n",
    "    left = np.roll(spec, -offset)\n",
    "    right = np.roll(spec, offset)\n",
    "    denom = left * right \n",
    "    denom_norm = np.sqrt(denom)\n",
    "    return np.divide(spec, denom_norm)\n",
    "\n",
    "def cyclo_stationary(data):\n",
    "    # fft\n",
    "    cyc_fft = compute_cyclo_fft(data, nfft)\n",
    "    # average\n",
    "    num_ffts = int(cyc_fft.shape[0])\n",
    "    cyc_fft = cyc_fft[:num_ffts]\n",
    "    cyc_fft = np.mean(np.reshape(cyc_fft, (nfft, cyclo_averaging)), axis=1)\n",
    "    specs = np.zeros((len(offsets)*16), dtype=np.complex64)\n",
    "    scs = np.zeros((len(offsets)*16), dtype=np.complex64)\n",
    "    cdp = {offset: 0 for offset in offsets}\n",
    "    for j, offset in enumerate(offsets):\n",
    "        spec = single_fft_cyclo(cyc_fft, offset)\n",
    "        sc = create_sc(spec, offset)\n",
    "        specs[j*16:j*16+16] = spec\n",
    "        scs[j*16:j*16+16] = sc\n",
    "        cdp[offset] = max(sc)\n",
    "    return specs, scs, cdp\n",
    "    \n",
    "def extract_features(X):\n",
    "    ndata = X.shape[0]\n",
    "    feat_specs = np.zeros((ndata, len(offsets)*16), dtype=np.complex64)\n",
    "    feat_scs = np.zeros((ndata, len(offsets)*16), dtype=np.complex64) \n",
    "    cdps = [0 for _ in range(ndata)]\n",
    "    for i in range(ndata):\n",
    "        A = (X[i][0] + X[i][1])\n",
    "        feat_specs[i], feat_scs[i], cdps[i] = cyclo_stationary(A)\n",
    "    return feat_specs, feat_scs, cdps"
   ]
  },
  {
   "cell_type": "code",
   "execution_count": 30,
   "metadata": {},
   "outputs": [
    {
     "name": "stderr",
     "output_type": "stream",
     "text": [
      "/Users/NJ/anaconda/lib/python3.6/site-packages/numpy/core/numeric.py:531: ComplexWarning: Casting complex values to real discards the imaginary part\n",
      "  return array(a, dtype, copy=False, order=order)\n"
     ]
    },
    {
     "data": {
      "image/png": "[encoded data removed]",
      "text/plain": [
       "<matplotlib.figure.Figure at 0x115600438>"
      ]
     },
     "metadata": {},
     "output_type": "display_data"
    }
   ],
   "source": [
    "X_train = Xd[('QPSK', 18)]\n",
    "feats_specs, feats_scs, cdps = extract_features(X_train)\n",
    "plt.plot(np.arange(128), feats_scs[200])\n",
    "plt.show()"
   ]
  },
  {
   "cell_type": "code",
   "execution_count": null,
   "metadata": {
    "collapsed": true
   },
   "outputs": [],
   "source": []
  },
  {
   "cell_type": "code",
   "execution_count": null,
   "metadata": {
    "collapsed": true
   },
   "outputs": [],
   "source": []
  }
 ],
 "metadata": {
  "kernelspec": {
   "display_name": "Python 3",
   "language": "python",
   "name": "python3"
  },
  "language_info": {
   "codemirror_mode": {
    "name": "ipython",
    "version": 3
   },
   "file_extension": ".py",
   "mimetype": "text/x-python",
   "name": "python",
   "nbconvert_exporter": "python",
   "pygments_lexer": "ipython3",
   "version": "3.6.1"
  }
 },
 "nbformat": 4,
 "nbformat_minor": 2
}
